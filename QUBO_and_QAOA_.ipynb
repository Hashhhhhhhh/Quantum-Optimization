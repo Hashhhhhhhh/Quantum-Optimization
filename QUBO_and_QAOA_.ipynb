{
  "nbformat": 4,
  "nbformat_minor": 0,
  "metadata": {
    "colab": {
      "provenance": [],
      "authorship_tag": "ABX9TyMl21cwh0IjatL46sN6Ciua",
      "include_colab_link": true
    },
    "kernelspec": {
      "name": "python3",
      "display_name": "Python 3"
    },
    "language_info": {
      "name": "python"
    }
  },
  "cells": [
    {
      "cell_type": "markdown",
      "metadata": {
        "id": "view-in-github",
        "colab_type": "text"
      },
      "source": [
        "<a href=\"https://colab.research.google.com/github/Hashhhhhhhh/Quantum-Optimization/blob/main/QUBO_and_QAOA_.ipynb\" target=\"_parent\"><img src=\"https://colab.research.google.com/assets/colab-badge.svg\" alt=\"Open In Colab\"/></a>"
      ]
    },
    {
      "cell_type": "code",
      "execution_count": 12,
      "metadata": {
        "colab": {
          "base_uri": "https://localhost:8080/"
        },
        "id": "S70lB-iA-_Vx",
        "outputId": "30d33fb6-e829-47fd-b9bf-c14410cebdcf"
      },
      "outputs": [
        {
          "output_type": "stream",
          "name": "stdout",
          "text": [
            "Requirement already satisfied: pennylane in /usr/local/lib/python3.12/dist-packages (0.42.3)\n",
            "Requirement already satisfied: pennylane-qiskit in /usr/local/lib/python3.12/dist-packages (0.42.0)\n",
            "Requirement already satisfied: numpy in /usr/local/lib/python3.12/dist-packages (2.0.2)\n",
            "Requirement already satisfied: scipy in /usr/local/lib/python3.12/dist-packages (from pennylane) (1.16.1)\n",
            "Requirement already satisfied: networkx in /usr/local/lib/python3.12/dist-packages (from pennylane) (3.5)\n",
            "Requirement already satisfied: rustworkx>=0.14.0 in /usr/local/lib/python3.12/dist-packages (from pennylane) (0.17.1)\n",
            "Requirement already satisfied: autograd in /usr/local/lib/python3.12/dist-packages (from pennylane) (1.8.0)\n",
            "Requirement already satisfied: appdirs in /usr/local/lib/python3.12/dist-packages (from pennylane) (1.4.4)\n",
            "Requirement already satisfied: autoray<0.8,>=0.6.11 in /usr/local/lib/python3.12/dist-packages (from pennylane) (0.7.2)\n",
            "Requirement already satisfied: cachetools in /usr/local/lib/python3.12/dist-packages (from pennylane) (5.5.2)\n",
            "Requirement already satisfied: pennylane-lightning>=0.42 in /usr/local/lib/python3.12/dist-packages (from pennylane) (0.42.0)\n",
            "Requirement already satisfied: requests in /usr/local/lib/python3.12/dist-packages (from pennylane) (2.32.4)\n",
            "Requirement already satisfied: tomlkit in /usr/local/lib/python3.12/dist-packages (from pennylane) (0.13.3)\n",
            "Requirement already satisfied: typing_extensions in /usr/local/lib/python3.12/dist-packages (from pennylane) (4.15.0)\n",
            "Requirement already satisfied: packaging in /usr/local/lib/python3.12/dist-packages (from pennylane) (25.0)\n",
            "Requirement already satisfied: diastatic-malt in /usr/local/lib/python3.12/dist-packages (from pennylane) (2.15.2)\n",
            "Requirement already satisfied: qiskit<1.3,>=0.32 in /usr/local/lib/python3.12/dist-packages (from pennylane-qiskit) (1.2.4)\n",
            "Requirement already satisfied: qiskit-aer<0.16.1 in /usr/local/lib/python3.12/dist-packages (from pennylane-qiskit) (0.16.0)\n",
            "Requirement already satisfied: qiskit-ibm-runtime<=0.29 in /usr/local/lib/python3.12/dist-packages (from pennylane-qiskit) (0.29.0)\n",
            "Requirement already satisfied: sympy<1.13 in /usr/local/lib/python3.12/dist-packages (from pennylane-qiskit) (1.12.1)\n",
            "Requirement already satisfied: scipy-openblas32>=0.3.26 in /usr/local/lib/python3.12/dist-packages (from pennylane-lightning>=0.42->pennylane) (0.3.30.0.2)\n",
            "Requirement already satisfied: dill>=0.3 in /usr/local/lib/python3.12/dist-packages (from qiskit<1.3,>=0.32->pennylane-qiskit) (0.3.8)\n",
            "Requirement already satisfied: python-dateutil>=2.8.0 in /usr/local/lib/python3.12/dist-packages (from qiskit<1.3,>=0.32->pennylane-qiskit) (2.9.0.post0)\n",
            "Requirement already satisfied: stevedore>=3.0.0 in /usr/local/lib/python3.12/dist-packages (from qiskit<1.3,>=0.32->pennylane-qiskit) (5.5.0)\n",
            "Requirement already satisfied: symengine<0.14,>=0.11 in /usr/local/lib/python3.12/dist-packages (from qiskit<1.3,>=0.32->pennylane-qiskit) (0.13.0)\n",
            "Requirement already satisfied: psutil>=5 in /usr/local/lib/python3.12/dist-packages (from qiskit-aer<0.16.1->pennylane-qiskit) (5.9.5)\n",
            "Requirement already satisfied: requests-ntlm>=1.1.0 in /usr/local/lib/python3.12/dist-packages (from qiskit-ibm-runtime<=0.29->pennylane-qiskit) (1.3.0)\n",
            "Requirement already satisfied: urllib3>=1.21.1 in /usr/local/lib/python3.12/dist-packages (from qiskit-ibm-runtime<=0.29->pennylane-qiskit) (2.5.0)\n",
            "Requirement already satisfied: websocket-client>=1.5.1 in /usr/local/lib/python3.12/dist-packages (from qiskit-ibm-runtime<=0.29->pennylane-qiskit) (1.8.0)\n",
            "Requirement already satisfied: ibm-platform-services>=0.22.6 in /usr/local/lib/python3.12/dist-packages (from qiskit-ibm-runtime<=0.29->pennylane-qiskit) (0.68.3)\n",
            "Requirement already satisfied: pydantic>=2.5.0 in /usr/local/lib/python3.12/dist-packages (from qiskit-ibm-runtime<=0.29->pennylane-qiskit) (2.11.7)\n",
            "Requirement already satisfied: charset_normalizer<4,>=2 in /usr/local/lib/python3.12/dist-packages (from requests->pennylane) (3.4.3)\n",
            "Requirement already satisfied: idna<4,>=2.5 in /usr/local/lib/python3.12/dist-packages (from requests->pennylane) (3.10)\n",
            "Requirement already satisfied: certifi>=2017.4.17 in /usr/local/lib/python3.12/dist-packages (from requests->pennylane) (2025.8.3)\n",
            "Requirement already satisfied: mpmath<1.4.0,>=1.1.0 in /usr/local/lib/python3.12/dist-packages (from sympy<1.13->pennylane-qiskit) (1.3.0)\n",
            "Requirement already satisfied: astunparse in /usr/local/lib/python3.12/dist-packages (from diastatic-malt->pennylane) (1.6.3)\n",
            "Requirement already satisfied: gast in /usr/local/lib/python3.12/dist-packages (from diastatic-malt->pennylane) (0.6.0)\n",
            "Requirement already satisfied: termcolor in /usr/local/lib/python3.12/dist-packages (from diastatic-malt->pennylane) (3.1.0)\n",
            "Requirement already satisfied: ibm_cloud_sdk_core<4.0.0,>=3.24.2 in /usr/local/lib/python3.12/dist-packages (from ibm-platform-services>=0.22.6->qiskit-ibm-runtime<=0.29->pennylane-qiskit) (3.24.2)\n",
            "Requirement already satisfied: annotated-types>=0.6.0 in /usr/local/lib/python3.12/dist-packages (from pydantic>=2.5.0->qiskit-ibm-runtime<=0.29->pennylane-qiskit) (0.7.0)\n",
            "Requirement already satisfied: pydantic-core==2.33.2 in /usr/local/lib/python3.12/dist-packages (from pydantic>=2.5.0->qiskit-ibm-runtime<=0.29->pennylane-qiskit) (2.33.2)\n",
            "Requirement already satisfied: typing-inspection>=0.4.0 in /usr/local/lib/python3.12/dist-packages (from pydantic>=2.5.0->qiskit-ibm-runtime<=0.29->pennylane-qiskit) (0.4.1)\n",
            "Requirement already satisfied: six>=1.5 in /usr/local/lib/python3.12/dist-packages (from python-dateutil>=2.8.0->qiskit<1.3,>=0.32->pennylane-qiskit) (1.17.0)\n",
            "Requirement already satisfied: cryptography>=1.3 in /usr/local/lib/python3.12/dist-packages (from requests-ntlm>=1.1.0->qiskit-ibm-runtime<=0.29->pennylane-qiskit) (43.0.3)\n",
            "Requirement already satisfied: pyspnego>=0.4.0 in /usr/local/lib/python3.12/dist-packages (from requests-ntlm>=1.1.0->qiskit-ibm-runtime<=0.29->pennylane-qiskit) (0.12.0)\n",
            "Requirement already satisfied: wheel<1.0,>=0.23.0 in /usr/local/lib/python3.12/dist-packages (from astunparse->diastatic-malt->pennylane) (0.45.1)\n",
            "Requirement already satisfied: cffi>=1.12 in /usr/local/lib/python3.12/dist-packages (from cryptography>=1.3->requests-ntlm>=1.1.0->qiskit-ibm-runtime<=0.29->pennylane-qiskit) (2.0.0)\n",
            "Requirement already satisfied: PyJWT<3.0.0,>=2.10.1 in /usr/local/lib/python3.12/dist-packages (from ibm_cloud_sdk_core<4.0.0,>=3.24.2->ibm-platform-services>=0.22.6->qiskit-ibm-runtime<=0.29->pennylane-qiskit) (2.10.1)\n",
            "Requirement already satisfied: pycparser in /usr/local/lib/python3.12/dist-packages (from cffi>=1.12->cryptography>=1.3->requests-ntlm>=1.1.0->qiskit-ibm-runtime<=0.29->pennylane-qiskit) (2.23)\n"
          ]
        }
      ],
      "source": [
        "!pip install pennylane pennylane-qiskit numpy"
      ]
    },
    {
      "cell_type": "markdown",
      "source": [
        "Refer to notes for derivations"
      ],
      "metadata": {
        "id": "MyiUdcwlA54N"
      }
    },
    {
      "cell_type": "markdown",
      "source": [
        "| Item | Value $v_i$ | Weight $w_i$ |\n",
        "| ---- | ----------- | ------------ |\n",
        "| 0    | 10          | 5            |\n",
        "| 1    | 8           | 3            |\n",
        "| 2    | 6           | 2            |\n"
      ],
      "metadata": {
        "id": "33_1sHHc_HG5"
      }
    },
    {
      "cell_type": "markdown",
      "source": [
        "Capacity, W=5"
      ],
      "metadata": {
        "id": "d2En4hnL_Nte"
      }
    },
    {
      "cell_type": "code",
      "source": [
        "import numpy as np\n",
        "# Knapsack parameters\n",
        "values = np.array([10,8,6])\n",
        "weights = np.array([5,3,2])\n",
        "capacity = 5\n",
        "#penalty\n",
        "A = 25.0\n",
        "for i in range(n):\n",
        "    Q[i,i] = -values[i] + A * weights[i]**2 - 2*A*capacity*weights[i]\n",
        "    for j in range(i+1, n):\n",
        "        Q[i,j] = 2*A*weights[i]*weights[j]\n",
        "\n",
        "\n",
        "print(\"QUBO matrix Q:\")\n",
        "print(Q)"
      ],
      "metadata": {
        "colab": {
          "base_uri": "https://localhost:8080/"
        },
        "id": "pfxGfIrx_Kpu",
        "outputId": "a406fcb5-e288-4cf2-b5de-93895cfc2b8e"
      },
      "execution_count": 13,
      "outputs": [
        {
          "output_type": "stream",
          "name": "stdout",
          "text": [
            "QUBO matrix Q:\n",
            "[[-635.  750.  500.]\n",
            " [   0. -533.  300.]\n",
            " [   0.    0. -406.]]\n"
          ]
        }
      ]
    },
    {
      "cell_type": "code",
      "source": [
        "from pennylane.ops.qubit import PauliZ\n",
        "\n",
        "# Coefficients for H_C\n",
        "c0 = np.sum(np.diag(Q)/2) + np.sum([Q[i,j]/4 for i in range(n) for j in range(i+1,n)])\n",
        "cZ = [ -Q[i,i]/2 - sum([Q[i,j]/4 for j in range(i+1,n)]) - sum([Q[j,i]/4 for j in range(i)]) for i in range(n) ]\n",
        "cZZ = [ Q[i,j]/4 for i in range(n) for j in range(i+1,n) ]\n",
        "\n",
        "print(\"c0:\", c0)\n",
        "print(\"cZ:\", cZ)\n",
        "print(\"cZZ:\", cZZ)"
      ],
      "metadata": {
        "colab": {
          "base_uri": "https://localhost:8080/"
        },
        "id": "ICTI_1wU_Xjj",
        "outputId": "7a2fc44f-c1b9-41a0-c0d6-6cbe2ff2e2c1"
      },
      "execution_count": 14,
      "outputs": [
        {
          "output_type": "stream",
          "name": "stdout",
          "text": [
            "c0: -399.5\n",
            "cZ: [np.float64(5.0), np.float64(4.0), np.float64(3.0)]\n",
            "cZZ: [np.float64(187.5), np.float64(125.0), np.float64(75.0)]\n"
          ]
        }
      ]
    },
    {
      "cell_type": "code",
      "source": [
        "import pennylane as qml\n",
        "dev = qml.device(\"default.qubit\", wires=n)"
      ],
      "metadata": {
        "id": "hF3JWtWS_w53"
      },
      "execution_count": 15,
      "outputs": []
    },
    {
      "cell_type": "code",
      "source": [
        "#Defining QAOA circuit\n",
        "def qaoa_layer(gamma, beta):\n",
        "    # Cost layer\n",
        "    for i in range(n):\n",
        "        qml.RZ(2*gamma*cZ[i], wires=i)\n",
        "    idx = 0\n",
        "    for i in range(n):\n",
        "        for j in range(i+1,n):\n",
        "            qml.MultiRZ(2*gamma*cZZ[idx], wires=[i,j])\n",
        "            idx += 1\n",
        "    # Mixer layer\n",
        "    for i in range(n):\n",
        "        qml.RX(2*beta, wires=i)\n",
        "\n",
        "@qml.qnode(dev)\n",
        "def circuit(params):\n",
        "    gamma, beta = params\n",
        "    # Initial state: uniform superposition\n",
        "    for i in range(n):\n",
        "        qml.Hadamard(wires=i)\n",
        "    qaoa_layer(gamma, beta)\n",
        "    return qml.probs(wires=range(n))\n"
      ],
      "metadata": {
        "id": "2P8Yzkgg_5RH"
      },
      "execution_count": 16,
      "outputs": []
    },
    {
      "cell_type": "code",
      "source": [
        "#Classical optimization to find the best angles\n",
        "# Cost function: expected value of QUBO\n",
        "def cost_fn(params):\n",
        "    probs = circuit(params)\n",
        "    cost = 0\n",
        "    for i, p in enumerate(probs):\n",
        "        # Convert index to bitstring\n",
        "        bits = [int(b) for b in format(i,\"0{}b\".format(n))]\n",
        "        x = np.array(bits)\n",
        "        cost += p * (x @ Q @ x)\n",
        "    return cost\n",
        "\n",
        "# Initial guess\n",
        "params = np.array([0.1, 0.1])\n",
        "\n",
        "opt = qml.GradientDescentOptimizer(stepsize=0.5)\n",
        "for _ in range(30):\n",
        "    params = opt.step(cost_fn, params)\n",
        "\n",
        "print(\"Optimized gamma, beta:\", params)\n"
      ],
      "metadata": {
        "colab": {
          "base_uri": "https://localhost:8080/"
        },
        "id": "9pmwYCM__-4-",
        "outputId": "6d406778-1441-45a7-d285-a6525c45c4b1"
      },
      "execution_count": 17,
      "outputs": [
        {
          "output_type": "stream",
          "name": "stdout",
          "text": [
            "Optimized gamma, beta: [0.1 0.1]\n"
          ]
        }
      ]
    },
    {
      "cell_type": "code",
      "source": [
        "#Measuring the solution\n",
        "probs = circuit(params)\n",
        "best_idx = np.argmax(probs)\n",
        "best_bitstring = format(best_idx,\"0{}b\".format(n))\n",
        "print(\"Best bitstring:\", best_bitstring)\n",
        "print(\"Selected items:\", [i for i,b in enumerate(best_bitstring) if b==\"1\"])"
      ],
      "metadata": {
        "colab": {
          "base_uri": "https://localhost:8080/"
        },
        "id": "rG6p4u0KAGgD",
        "outputId": "ae470fe4-b536-42d7-f5ca-e546a9e35b66"
      },
      "execution_count": 18,
      "outputs": [
        {
          "output_type": "stream",
          "name": "stdout",
          "text": [
            "Best bitstring: 011\n",
            "Selected items: [1, 2]\n"
          ]
        }
      ]
    },
    {
      "cell_type": "markdown",
      "source": [
        "This corresponds to choosing items 1 and 2, which satisfies capacity and maximizes value."
      ],
      "metadata": {
        "id": "K9goxDaYARDd"
      }
    }
  ]
}